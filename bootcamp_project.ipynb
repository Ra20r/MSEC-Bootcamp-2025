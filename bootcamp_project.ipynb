{
 "cells": [
  {
   "cell_type": "markdown",
   "id": "bb2a8464",
   "metadata": {},
   "source": [
    "# Part 1"
   ]
  },
  {
   "cell_type": "markdown",
   "id": "99300994",
   "metadata": {},
   "source": [
    "## Task:\n",
    "### Imagine you want to summarize some of the most important food cost metrics and trends for economists.\n",
    "### Provide descriptive statistics of the dataset any way you see fit.\n",
    "### At minimum, include the following:\n",
    " - Calculate cost of living trends such as CPI\n",
    " - Find and show plots of any interesting patterns or trends in food costs\n",
    " - Include summary tables per country, product, etc."
   ]
  },
  {
   "cell_type": "code",
   "execution_count": null,
   "id": "ba4f508a",
   "metadata": {},
   "outputs": [],
   "source": []
  }
 ],
 "metadata": {
  "kernelspec": {
   "display_name": "env",
   "language": "python",
   "name": "python3"
  },
  "language_info": {
   "name": "python",
   "version": "3.13.5"
  }
 },
 "nbformat": 4,
 "nbformat_minor": 5
}
