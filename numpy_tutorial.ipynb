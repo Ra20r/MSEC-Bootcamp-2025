{
 "cells": [
  {
   "cell_type": "markdown",
   "id": "74eaa10c-c13a-434c-8ecc-b8928beec521",
   "metadata": {},
   "source": [
    "# NumPy"
   ]
  },
  {
   "cell_type": "markdown",
   "id": "57bb6b8a-23f2-4867-98e2-6eac66865d05",
   "metadata": {},
   "source": [
    "## Used to store Multi-dimensional Arrays\n",
    "## Why use this over lists?\n",
    "### Main difference is speed\n",
    "#### NumPy uses fixed types. So a 5 stored in it will be cast into a 32-bit type (4 bytes). You can specify int16 or int8.\n",
    "#### In lists, there are more resources stored: size, reference count, object value, and type. That uses a lot of memory and slows down the whole system.\n",
    "### NumPy also uses contiguous memory, instead of pointers for each cell as in lists, making it slow.\n",
    "### In NumPy, we can do basic operations like insertions, deletions, and much more. Like using math operators like *, directly with arrays.\n",
    "### Matlab replacement (maybe), SciPy is even more powerful.\n",
    "### Backend for Matplotlib, Pandas, etc.\n"
   ]
  },
  {
   "cell_type": "code",
   "execution_count": 1,
   "id": "d5110ffa-3a00-4253-a103-533ec6e1c394",
   "metadata": {
    "editable": true,
    "slideshow": {
     "slide_type": ""
    },
    "tags": []
   },
   "outputs": [],
   "source": [
    "import numpy as np"
   ]
  },
  {
   "cell_type": "code",
   "execution_count": 2,
   "id": "6fff22b4-705f-4ea3-a81e-c22cd7aaa9be",
   "metadata": {
    "editable": true,
    "slideshow": {
     "slide_type": ""
    },
    "tags": []
   },
   "outputs": [
    {
     "name": "stdout",
     "output_type": "stream",
     "text": [
      "[1 2 3]\n"
     ]
    }
   ],
   "source": [
    "a = np.array([1, 2, 3], dtype = \"int16\") # Try to specify the type for more efficiency\n",
    "print(a)"
   ]
  },
  {
   "cell_type": "code",
   "execution_count": 3,
   "id": "12e70ded-ec5e-4442-bfd4-d8a4fdf96a58",
   "metadata": {},
   "outputs": [
    {
     "name": "stdout",
     "output_type": "stream",
     "text": [
      "[[1.  0.1 2. ]\n",
      " [0.1 0.3 0.6]]\n"
     ]
    }
   ],
   "source": [
    "b = np.array([[1, 0.1, 2], [0.1, 0.3, 0.6]])\n",
    "print(b)"
   ]
  },
  {
   "cell_type": "code",
   "execution_count": 4,
   "id": "52cbafb2-1546-47d7-a506-83170f139237",
   "metadata": {},
   "outputs": [
    {
     "name": "stdout",
     "output_type": "stream",
     "text": [
      "1\n",
      "2\n",
      "(3,)\n",
      "(2, 3)\n"
     ]
    }
   ],
   "source": [
    "# Get dimensions\n",
    "print(a.ndim)\n",
    "print(b.ndim)\n",
    "#Get shape\n",
    "print(a.shape)\n",
    "print(b.shape)"
   ]
  },
  {
   "cell_type": "code",
   "execution_count": 5,
   "id": "1276fa6e-488b-4d7e-b01c-c1c43e6cb878",
   "metadata": {},
   "outputs": [
    {
     "name": "stdout",
     "output_type": "stream",
     "text": [
      "int16\n",
      "2\n",
      "3\n",
      "6\n",
      "6\n"
     ]
    }
   ],
   "source": [
    "# Get type\n",
    "print(a.dtype)\n",
    "print(a.itemsize)\n",
    "print(a.size) # Total number of elements\n",
    "print(a.size * a.itemsize) # Total size\n",
    "print(a.nbytes) # Total size"
   ]
  },
  {
   "cell_type": "code",
   "execution_count": 6,
   "id": "c7437a1a-0ad5-48cd-ba93-f5ec3513f04b",
   "metadata": {},
   "outputs": [
    {
     "data": {
      "text/plain": [
       "(2, 7)"
      ]
     },
     "execution_count": 6,
     "metadata": {},
     "output_type": "execute_result"
    }
   ],
   "source": [
    "a = np.array([[1,2,3,4,5,6,7], [8,9,10,11,12,13,14]])\n",
    "a.shape"
   ]
  },
  {
   "cell_type": "code",
   "execution_count": 7,
   "id": "c8487626-81eb-42a9-b5d9-6d64dad5f968",
   "metadata": {},
   "outputs": [
    {
     "name": "stdout",
     "output_type": "stream",
     "text": [
      "10\n",
      "20\n",
      "[ 8  9 20 11 12 13 14]\n",
      "[5 5 5 5 5 5 5]\n",
      "2\n",
      "[4 5]\n",
      "[2 4 6]\n"
     ]
    }
   ],
   "source": [
    "print(a[1,2])\n",
    "a[1,2] = 20\n",
    "print(a[1,2])\n",
    "print(a[1,:]) # Get row\n",
    "a[1,:] = [5,5,5,5,5,5,5] # Can also be written as a[1, :] = 5\n",
    "print(a[1, :])\n",
    "print(a[0,1])\n",
    "print(a[:, 3]) # Get column\n",
    "\n",
    "# [startindex, endindex, stepsize]\n",
    "print(a[0, 1: 6: 2])"
   ]
  },
  {
   "cell_type": "code",
   "execution_count": 8,
   "id": "257dcc0b-7c57-4dad-a5da-13e205080bc1",
   "metadata": {},
   "outputs": [
    {
     "name": "stdout",
     "output_type": "stream",
     "text": [
      "[[[1 2]\n",
      "  [3 4]]\n",
      "\n",
      " [[5 6]\n",
      "  [7 8]]]\n",
      "4\n"
     ]
    }
   ],
   "source": [
    "# 3D array\n",
    "b = np.array([[[1, 2], [3, 4]], [[5, 6], [7, 8]]])\n",
    "print(b)\n",
    "\n",
    "# Tip to access elements - go outside in\n",
    "print(b[0, 1, 1])"
   ]
  },
  {
   "cell_type": "code",
   "execution_count": 9,
   "id": "bb7dc188-6432-41d8-ae22-705cf3ab4793",
   "metadata": {},
   "outputs": [
    {
     "name": "stdout",
     "output_type": "stream",
     "text": [
      "[0. 0. 0. 0. 0.]\n",
      "[[[0 0 0]\n",
      "  [0 0 0]\n",
      "  [0 0 0]]\n",
      "\n",
      " [[0 0 0]\n",
      "  [0 0 0]\n",
      "  [0 0 0]]]\n",
      "[[1. 1.]\n",
      " [1. 1.]\n",
      " [1. 1.]\n",
      " [1. 1.]]\n",
      "[[[99 99 99]\n",
      "  [99 99 99]]\n",
      "\n",
      " [[99 99 99]\n",
      "  [99 99 99]]]\n"
     ]
    }
   ],
   "source": [
    "z = np.zeros(5)\n",
    "print(z)\n",
    "z = np.zeros((2,3,3), dtype = \"int16\")\n",
    "print(z)\n",
    "\n",
    "o = np.ones((4,2))\n",
    "print(o)\n",
    "\n",
    "x = np.full((2,2,3), 99) # List full of any element x [the first parameter is a shape]\n",
    "print(x)"
   ]
  },
  {
   "cell_type": "code",
   "execution_count": 10,
   "id": "9e7090a5-b445-4f14-8f94-69bb1487c2e1",
   "metadata": {},
   "outputs": [
    {
     "data": {
      "text/plain": [
       "array([[0.22251345, 0.44545853],\n",
       "       [0.71069729, 0.57981115],\n",
       "       [0.79223436, 0.56848365],\n",
       "       [0.70423916, 0.86177095]])"
      ]
     },
     "execution_count": 10,
     "metadata": {},
     "output_type": "execute_result"
    }
   ],
   "source": [
    "# Random decimal numbers\n",
    "np.random.rand(4, 2) # Shape"
   ]
  },
  {
   "cell_type": "code",
   "execution_count": 11,
   "id": "19be55b8-8d29-4d6f-9ff6-58eb8fa21ef5",
   "metadata": {},
   "outputs": [
    {
     "name": "stdout",
     "output_type": "stream",
     "text": [
      "[[3 0 3]\n",
      " [4 5 5]\n",
      " [4 6 2]]\n",
      "[[6 5 4]\n",
      " [5 5 5]\n",
      " [5 4 4]]\n"
     ]
    }
   ],
   "source": [
    "# Random interger numbers\n",
    "print(np.random.randint(7, size=(3, 3))) # First parameter is the end_value - 1\n",
    "print(np.random.randint(4, 7, size=(3, 3))) # Start and end - 1"
   ]
  },
  {
   "cell_type": "code",
   "execution_count": 12,
   "id": "9ddb55bc-96ea-4c1d-90dd-6539a0391512",
   "metadata": {},
   "outputs": [
    {
     "data": {
      "text/plain": [
       "array([[1., 0., 0., 0., 0.],\n",
       "       [0., 1., 0., 0., 0.],\n",
       "       [0., 0., 1., 0., 0.],\n",
       "       [0., 0., 0., 1., 0.],\n",
       "       [0., 0., 0., 0., 1.]])"
      ]
     },
     "execution_count": 12,
     "metadata": {},
     "output_type": "execute_result"
    }
   ],
   "source": [
    "np.identity(5)"
   ]
  },
  {
   "cell_type": "code",
   "execution_count": 13,
   "id": "de470353-4840-4394-b955-d4d274fb9314",
   "metadata": {},
   "outputs": [
    {
     "name": "stdout",
     "output_type": "stream",
     "text": [
      "[[1 2 3]]\n",
      "[[1 2 3]\n",
      " [1 2 3]\n",
      " [1 2 3]]\n"
     ]
    }
   ],
   "source": [
    "arr = np.array([[1, 2, 3]])\n",
    "arr1 = np.repeat(arr, 3, axis = 0)\n",
    "print(arr)\n",
    "print(arr1)"
   ]
  },
  {
   "cell_type": "code",
   "execution_count": 14,
   "id": "0971ce37-2f38-4f97-9f97-ab0b1120b467",
   "metadata": {},
   "outputs": [
    {
     "data": {
      "text/plain": [
       "array([[1, 1, 1, 1, 1],\n",
       "       [1, 0, 0, 0, 1],\n",
       "       [1, 0, 9, 0, 1],\n",
       "       [1, 0, 0, 0, 1],\n",
       "       [1, 1, 1, 1, 1]], dtype=int8)"
      ]
     },
     "execution_count": 14,
     "metadata": {},
     "output_type": "execute_result"
    }
   ],
   "source": [
    "example = np.zeros((5, 5), dtype = \"int8\")\n",
    "example[0, :] = np.ones(1, dtype = \"int8\")\n",
    "example[-1, :] = np.ones(1)\n",
    "example[:, 0] = np.ones(1)\n",
    "example[:, -1] = np.ones(1)\n",
    "example[2, 2] = 9\n",
    "example"
   ]
  },
  {
   "cell_type": "code",
   "execution_count": 15,
   "id": "d267f8b0-8e16-40c0-a9a0-2d6907aae87c",
   "metadata": {},
   "outputs": [
    {
     "data": {
      "text/plain": [
       "array([[1, 1, 1, 1, 1],\n",
       "       [1, 0, 0, 0, 1],\n",
       "       [1, 0, 9, 0, 1],\n",
       "       [1, 0, 0, 0, 1],\n",
       "       [1, 1, 1, 1, 1]], dtype=int8)"
      ]
     },
     "execution_count": 15,
     "metadata": {},
     "output_type": "execute_result"
    }
   ],
   "source": [
    " # Better way to do the example\n",
    "example = np.ones((5, 5), dtype = \"int8\")\n",
    "x = np.zeros((3, 3), dtype = \"int8\")\n",
    "x[1, 1] = 9\n",
    "example[1:4, 1:4] = x\n",
    "example"
   ]
  },
  {
   "cell_type": "markdown",
   "id": "64f496f1-c1b7-448a-ba4d-76591aad2be7",
   "metadata": {},
   "source": [
    "## Be careful when copying arrays\n",
    "### They are passed by reference"
   ]
  },
  {
   "cell_type": "code",
   "execution_count": 16,
   "id": "ae04629d-fb77-463d-a0ca-88f699b32d4d",
   "metadata": {},
   "outputs": [
    {
     "name": "stdout",
     "output_type": "stream",
     "text": [
      "[3 4 5 6]\n",
      "[ 0.14112001 -0.7568025  -0.95892427 -0.2794155 ]\n"
     ]
    }
   ],
   "source": [
    "a = np.array([1, 2, 3, 4])\n",
    "a += 2\n",
    "print(a)\n",
    "# Similarly all other arithmetic operators\n",
    "# Can also be done with matrices, given they are compatible wrt shape and other properties, if applicable\n",
    "a = np.sin(a)\n",
    "print(a)"
   ]
  },
  {
   "cell_type": "code",
   "execution_count": 17,
   "id": "549287ca-8bd0-47f6-a6f0-6f5be7a02d55",
   "metadata": {},
   "outputs": [
    {
     "name": "stdout",
     "output_type": "stream",
     "text": [
      "[[6. 6.]\n",
      " [6. 6.]]\n"
     ]
    }
   ],
   "source": [
    "a = np.ones((2, 3))\n",
    "b = np.full((3, 2), 2)\n",
    "print(np.matmul(a, b))"
   ]
  },
  {
   "cell_type": "code",
   "execution_count": 18,
   "id": "8680bcf7-b004-449d-a8bc-a1cce44b1c15",
   "metadata": {},
   "outputs": [
    {
     "data": {
      "text/plain": [
       "np.float64(1.0)"
      ]
     },
     "execution_count": 18,
     "metadata": {},
     "output_type": "execute_result"
    }
   ],
   "source": [
    "c = np.identity(3)\n",
    "np.linalg.det(c)"
   ]
  },
  {
   "cell_type": "code",
   "execution_count": 19,
   "id": "c875307f-0b74-46fc-9889-14585a7bc12d",
   "metadata": {},
   "outputs": [
    {
     "name": "stdout",
     "output_type": "stream",
     "text": [
      "6\n",
      "1\n",
      "3\n",
      "[3 6]\n",
      "21\n",
      "[5 8 8]\n"
     ]
    }
   ],
   "source": [
    "a = np.array([[1, 3, 2], [4, 5, 6]])\n",
    "print(np.max(a))\n",
    "print(np.min(a))\n",
    "print(np.max(a[0, :])) # First row\n",
    "print(np.max(a, axis=1)) # Row wise max\n",
    "print(np.sum(a))\n",
    "print(np.sum(a, axis=0)) # Column wise sum"
   ]
  },
  {
   "cell_type": "code",
   "execution_count": 20,
   "id": "4becca53-6fbc-4474-bd09-325cf40e7267",
   "metadata": {},
   "outputs": [
    {
     "data": {
      "text/plain": [
       "array([[ 1,  2],\n",
       "       [ 3,  4],\n",
       "       [ 5,  6],\n",
       "       [ 7,  8],\n",
       "       [ 9, 10]])"
      ]
     },
     "execution_count": 20,
     "metadata": {},
     "output_type": "execute_result"
    }
   ],
   "source": [
    "a = np.array([[1,2,3,4,5], [6,7,8,9,10]])\n",
    "a = a.reshape((5, 2))\n",
    "a"
   ]
  },
  {
   "cell_type": "code",
   "execution_count": 21,
   "id": "39866af3-4d3b-4ddd-89ce-8749ed68a411",
   "metadata": {},
   "outputs": [
    {
     "name": "stdout",
     "output_type": "stream",
     "text": [
      "[[1 2 3 4]\n",
      " [5 6 7 8]\n",
      " [1 2 3 4]\n",
      " [5 6 7 8]]\n"
     ]
    }
   ],
   "source": [
    "v1 = np.array([1,2,3,4])\n",
    "v2 = np.array([5,6,7,8])\n",
    "x = np.vstack([v1, v2, v1, v2]) # hstack is used for horizontal stack\n",
    "print(x)"
   ]
  },
  {
   "cell_type": "code",
   "execution_count": 23,
   "id": "8365613b-63d7-4fb2-a95b-c40b15c6183f",
   "metadata": {},
   "outputs": [
    {
     "name": "stdout",
     "output_type": "stream",
     "text": [
      "[[False False False False False False]\n",
      " [False False False False False False]\n",
      " [False False False False False False]\n",
      " [False False False False False False]\n",
      " [False False False False False False]]\n",
      "[[False False False False False False]\n",
      " [False False False False False False]\n",
      " [False False False False False False]\n",
      " [False False False False False False]\n",
      " [False False False False False False]]\n",
      "[]\n",
      "[2 3 7]\n"
     ]
    }
   ],
   "source": [
    "# Boolean Masking\n",
    "a = np.ones((5, 6))\n",
    "print(a > 1)\n",
    "print((a > 1) & (a < 100))\n",
    "print(a[a > 1]) # Grab elements with conditions\n",
    "# This is done because you can index in NumPy with a list\n",
    "a = np.array([1,2,3,4,5,6,7,8,9])\n",
    "print(a[[1,2,6]])\n",
    "# Can be used with np.all and np.any -- combining with axis gives more functionality"
   ]
  },
  {
   "cell_type": "code",
   "execution_count": 38,
   "id": "ab6922ab-d6dc-49ae-ba93-00de48537b73",
   "metadata": {},
   "outputs": [
    {
     "name": "stdout",
     "output_type": "stream",
     "text": [
      "[[ 1  2  3  4  5]\n",
      " [ 6  7  8  9 10]\n",
      " [11 12 13 14 15]\n",
      " [16 17 18 19 20]\n",
      " [21 22 23 24 25]\n",
      " [26 27 28 29 30]]\n",
      "[[11 12]\n",
      " [16 17]]\n",
      "[ 2  8 14 20]\n",
      "[[ 4  5]\n",
      " [24 25]\n",
      " [29 30]]\n"
     ]
    }
   ],
   "source": [
    "example = np.arange(1, 31, 1)\n",
    "example = example.reshape((6, 5))\n",
    "print(example)\n",
    "print(example[2:4, :2])\n",
    "print(example[[0, 1, 2, 3], [1, 2, 3, 4]])\n",
    "print(example[[0, 4, 5], 3:])"
   ]
  },
  {
   "cell_type": "code",
   "execution_count": null,
   "id": "7526264f-10a2-4db6-b414-388489058f54",
   "metadata": {},
   "outputs": [],
   "source": []
  }
 ],
 "metadata": {
  "kernelspec": {
   "display_name": "env",
   "language": "python",
   "name": "env"
  },
  "language_info": {
   "codemirror_mode": {
    "name": "ipython",
    "version": 3
   },
   "file_extension": ".py",
   "mimetype": "text/x-python",
   "name": "python",
   "nbconvert_exporter": "python",
   "pygments_lexer": "ipython3",
   "version": "3.13.5"
  }
 },
 "nbformat": 4,
 "nbformat_minor": 5
}
